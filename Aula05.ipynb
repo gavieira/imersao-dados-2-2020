{
 "cells": [
  {
   "cell_type": "markdown",
   "metadata": {
    "colab_type": "text",
    "id": "view-in-github"
   },
   "source": [
    "<a href=\"https://colab.research.google.com/github/gavieira/imersao-dados-2-2020/blob/master/Aula05.ipynb\" target=\"_parent\"><img src=\"https://colab.research.google.com/assets/colab-badge.svg\" alt=\"Open In Colab\"/></a>"
   ]
  },
  {
   "cell_type": "markdown",
   "metadata": {
    "id": "YsiFS5dKtp-0"
   },
   "source": [
    "## Aula 05"
   ]
  },
  {
   "cell_type": "code",
   "execution_count": 11,
   "metadata": {
    "id": "z9XYg7h2FcNq"
   },
   "outputs": [],
   "source": [
    "import pandas as pd\n",
    "import numpy as np\n",
    "import matplotlib.pyplot as plt\n",
    "import seaborn as sns\n",
    "from sklearn.model_selection import train_test_split\n",
    "from sklearn.metrics import mean_squared_error"
   ]
  },
  {
   "cell_type": "code",
   "execution_count": 8,
   "metadata": {
    "colab": {
     "base_uri": "https://localhost:8080/",
     "height": 253
    },
    "id": "fIwTRps9_ZU6",
    "outputId": "380a3a16-9063-4dd1-e862-12689cc5c7e8"
   },
   "outputs": [],
   "source": [
    "# No vídeo, usou a url - facilita uso no Colab\n",
    "\n",
    "#fonte = \"https://raw.githubusercontent.com/gavieira/imersao-dados-2-2020/master/MICRODADOS_ENEM_2019_SAMPLE_43278.csv\"\n",
    "#dados = pd.read_csv(fonte)\n",
    "#dados.head()\n"
   ]
  },
  {
   "cell_type": "code",
   "execution_count": 9,
   "metadata": {
    "id": "UoR8DgbY-U3o"
   },
   "outputs": [],
   "source": [
    "#Setando variáveis\n",
    "\n",
    "# Criadas na aula01\n",
    "dados = pd.read_csv(\"MICRODADOS_ENEM_2019_SAMPLE_43278.csv\")\n",
    "provas = [\"NU_NOTA_CN\",\"NU_NOTA_CH\",\"NU_NOTA_MT\",\"NU_NOTA_LC\",\"NU_NOTA_REDACAO\"]\n",
    "\n",
    "# Criadas na aula 02\n",
    "renda_ordenada = np.sort(dados[\"Q006\"].unique()) \n",
    "dados[\"NU_NOTA_TOTAL\"] = dados[provas].sum(axis=1)\n",
    "provas.append(\"NU_NOTA_TOTAL\")\n",
    "dados_sem_notas_zero = dados.query(\"NU_NOTA_TOTAL != 0\")\n",
    "\n",
    "# Aula 03\n",
    "correlacao = dados_sem_notas_zero[provas].corr()\n",
    "\n",
    "# Aula 04\n",
    "provas_entrada = [\"NU_NOTA_CH\",\"NU_NOTA_LC\", \"NU_NOTA_CN\",\"NU_NOTA_REDACAO\"] # São nossas características, usadas para definir nossa saída\n",
    "prova_saida = \"NU_NOTA_MT\" # È a nota que queremos prever\n",
    "dados_sem_notas_zero = dados_sem_notas_zero[provas].dropna() #Remove os NaN (Not a number) para poder fazer o fit no modelo\n",
    "\n",
    "notas_entrada = x = dados_sem_notas_zero[provas_entrada]\n",
    "notas_saida = y = dados_sem_notas_zero[prova_saida]\n",
    "\n",
    "SEED = 4321 # Poderia ser qqr numero\n",
    "x_treino, x_teste, y_treino, y_teste = train_test_split(x, y, test_size = 0.25,\n",
    "                                                        random_state=SEED)\n"
   ]
  },
  {
   "cell_type": "code",
   "execution_count": 12,
   "metadata": {
    "colab": {
     "base_uri": "https://localhost:8080/",
     "height": 87
    },
    "id": "bAbhPCqYvcxb",
    "outputId": "8f249f60-14e8-408b-e8b3-7f72fa964526"
   },
   "outputs": [
    {
     "name": "stderr",
     "output_type": "stream",
     "text": [
      "/home/gabriel/miniconda3/lib/python3.8/site-packages/sklearn/svm/_base.py:976: ConvergenceWarning: Liblinear failed to converge, increase the number of iterations.\n",
      "  warnings.warn(\"Liblinear failed to converge, increase \"\n"
     ]
    },
    {
     "data": {
      "text/plain": [
       "18324.11972400897"
      ]
     },
     "execution_count": 12,
     "metadata": {},
     "output_type": "execute_result"
    }
   ],
   "source": [
    "from sklearn.svm import LinearSVR\n",
    "\n",
    "modelo = LinearSVR(random_state=SEED)\n",
    "modelo.fit(x_treino, y_treino)\n",
    "predicoes_matematica = modelo.predict(x_teste)\n",
    "mean_squared_error(y_teste, predicoes_matematica) #mse\n",
    "#Se retirar o parametro random state, o mse muda cada vez que roda\n",
    "#Precisamos retirar a aleatoriedade do modelo tanto quanto possível\n",
    "#E tem modelos que dependem menos do random_state (ex: decision_tree, que só usa aleatoriedade em situações bem específicas)"
   ]
  },
  {
   "cell_type": "code",
   "execution_count": 38,
   "metadata": {
    "colab": {
     "base_uri": "https://localhost:8080/",
     "height": 34
    },
    "id": "XeS9pHeet7-V",
    "outputId": "da5aa319-5d09-4e3c-c5c5-ca59384e6be3"
   },
   "outputs": [
    {
     "data": {
      "text/plain": [
       "5983.264315740933"
      ]
     },
     "execution_count": 38,
     "metadata": {},
     "output_type": "execute_result"
    }
   ],
   "source": [
    "from sklearn.tree import DecisionTreeRegressor\n",
    "\n",
    "x_treino, x_teste, y_treino, y_teste = train_test_split(x, y, test_size=0.25) # Para obter sempre o mesmo resultado de predição, basta comentar essa linha\n",
    "modelo_arvore = DecisionTreeRegressor(max_depth = 3) #Não seta o random_state, e sim um parametro chamado max_depth\n",
    "modelo_arvore.fit(x_treino, y_treino)\n",
    "predicoes_matematica_arvore = modelo_arvore.predict(x_teste)\n",
    "mean_squared_error(y_teste, predicoes_matematica_arvore)\n",
    "#Decision_tree possui o parametro random_state na documentação, mas essa aleatoriedade só é usada em situações particulares\n",
    "#Logo, não setamos o random_state, e mesmo assim o resultado é sempre o mesmo toda vez que roda, se dermos o mesmo dataset de treino\n",
    "#Se dermos diferentes x_treino e y_treino, aí sim o resultado muda entre as runs\n",
    "#A aleatoriedade desse e do ultimo modelo não está associado apenas ao random_state, mas tbm à divisão do dataset\n",
    "#Logo, o decisiontree não é isento de aleatoriedade, mas tem um fator de aleatoriedade a mais (random_state)"
   ]
  },
  {
   "cell_type": "code",
   "execution_count": 14,
   "metadata": {
    "id": "lY8-sJTzvnhT"
   },
   "outputs": [],
   "source": [
    "\n",
    "\n",
    "from sklearn.model_selection import cross_validate\n",
    "\n",
    "modelo_arvore = DecisionTreeRegressor(max_depth=2)\n",
    "resultados = cross_validate(modelo_arvore, x, y, cv= 10, scoring=\"neg_mean_squared_error\")\n",
    "media = (resultados[\"test_score\"]*-1).mean()\n",
    "\n"
   ]
  },
  {
   "cell_type": "code",
   "execution_count": 15,
   "metadata": {
    "colab": {
     "base_uri": "https://localhost:8080/",
     "height": 34
    },
    "id": "Nu9AV9e5vvPs",
    "outputId": "482b052a-a802-4e41-f7cd-a9309a214be1"
   },
   "outputs": [
    {
     "name": "stdout",
     "output_type": "stream",
     "text": [
      "Intervalo de confiança 6015.722549536811 - 7100.73277978073\n"
     ]
    }
   ],
   "source": [
    "from sklearn.model_selection import cross_validate\n",
    "\n",
    "modelo_arvore = DecisionTreeRegressor(max_depth=2)\n",
    "resultados = cross_validate(modelo_arvore, x, y, cv= 10, scoring=\"neg_mean_squared_error\")\n",
    "media = (resultados[\"test_score\"]*-1).mean()\n",
    "desvio_padrao = (resultados[\"test_score\"]*-1).std()\n",
    "lim_inferior = media - (2*desvio_padrao)\n",
    "lim_superior = media + (2*desvio_padrao)\n",
    "\n",
    "print(f\"Intervalo de confiança {lim_inferior} - {lim_superior}\")"
   ]
  },
  {
   "cell_type": "code",
   "execution_count": 16,
   "metadata": {
    "colab": {
     "base_uri": "https://localhost:8080/",
     "height": 67
    },
    "id": "we1QL6lw2nxd",
    "outputId": "c0122936-cacd-4bc3-a990-2fa4d3535a25"
   },
   "outputs": [
    {
     "data": {
      "text/plain": [
       "array([6118.6911947 , 6536.09830186, 6338.64260896, 6456.70685686,\n",
       "       6234.97203593, 6794.25120283, 6713.45694262, 6693.04880297,\n",
       "       6610.58461646, 7085.82408339])"
      ]
     },
     "execution_count": 16,
     "metadata": {},
     "output_type": "execute_result"
    }
   ],
   "source": [
    "resultados[\"test_score\"]*-1"
   ]
  },
  {
   "cell_type": "code",
   "execution_count": 18,
   "metadata": {
    "id": "r2HzqJUP6z9B"
   },
   "outputs": [],
   "source": [
    "def calcula_mse(resultados):\n",
    "    media = (resultados[\"test_score\"]*-1).mean()\n",
    "    desvio_padrao = (resultados[\"test_score\"]*-1).std()\n",
    "    lim_inferior = media - (2*desvio_padrao)\n",
    "    lim_superior = media + (2*desvio_padrao)\n",
    "    print(f\"Intervalo de confiança {lim_inferior} - {lim_superior}\")"
   ]
  },
  {
   "cell_type": "code",
   "execution_count": 19,
   "metadata": {
    "colab": {
     "base_uri": "https://localhost:8080/",
     "height": 34
    },
    "id": "Q_mhyKIL7BXO",
    "outputId": "32b6b138-967a-43f7-a4c7-edac2955fd79"
   },
   "outputs": [
    {
     "name": "stdout",
     "output_type": "stream",
     "text": [
      "Intervalo de confiança 5858.741842392759 - 6250.793292491384\n"
     ]
    }
   ],
   "source": [
    "from sklearn.model_selection import cross_validate\n",
    "from sklearn.model_selection import KFold\n",
    "import numpy as np\n",
    "\n",
    "SEED= 1232\n",
    "np.random.seed(SEED)\n",
    "\n",
    "\n",
    "\n",
    "partes = KFold(n_splits = 10, shuffle=True)\n",
    "modelo_arvore = DecisionTreeRegressor(max_depth=3)\n",
    "resultados = cross_validate(modelo_arvore, x, y, cv= partes, scoring=\"neg_mean_squared_error\")\n",
    "calcula_mse(resultados)"
   ]
  },
  {
   "cell_type": "code",
   "execution_count": 20,
   "metadata": {
    "colab": {
     "base_uri": "https://localhost:8080/",
     "height": 34
    },
    "id": "2j5f76kD2v-Q",
    "outputId": "76a23ccd-9e5a-4b96-c1f2-57d1c1a5656b"
   },
   "outputs": [
    {
     "name": "stdout",
     "output_type": "stream",
     "text": [
      "Treino = 5760.834451245899|Teste = 5815.707286597402\n"
     ]
    }
   ],
   "source": [
    "def regressor_arvore(nivel):\n",
    "    SEED= 1232\n",
    "    np.random.seed(SEED)\n",
    "    partes = KFold(n_splits = 10, shuffle=True)\n",
    "    modelo_arvore = DecisionTreeRegressor(max_depth=nivel)\n",
    "    resultados = cross_validate(modelo_arvore, x, y, cv= partes, scoring=\"neg_mean_squared_error\", return_train_score=True)\n",
    "    print(f\"Treino = {(resultados['train_score']*-1).mean()}|Teste = {(resultados['test_score']*-1).mean()}\")\n",
    "\n",
    "regressor_arvore(4)"
   ]
  },
  {
   "cell_type": "code",
   "execution_count": 21,
   "metadata": {
    "colab": {
     "base_uri": "https://localhost:8080/",
     "height": 353
    },
    "id": "zxNNI6py_RlW",
    "outputId": "3f36c965-a474-4d92-a3f0-037d28742119"
   },
   "outputs": [
    {
     "name": "stdout",
     "output_type": "stream",
     "text": [
      "Treino = 7844.952652412207|Teste = 7857.871770206351\n",
      "Treino = 6527.783475408351|Teste = 6556.886287657656\n",
      "Treino = 6021.275229419075|Teste = 6054.767567442072\n",
      "Treino = 5760.834451245899|Teste = 5815.707286597402\n",
      "Treino = 5598.158955426787|Teste = 5675.196789060744\n",
      "Treino = 5469.677369145869|Teste = 5593.304363812442\n",
      "Treino = 5369.458309852721|Teste = 5541.646599457925\n",
      "Treino = 5276.16965707928|Teste = 5542.053091078966\n",
      "Treino = 5166.713159932668|Teste = 5608.390265709719\n",
      "Treino = 5022.598049115693|Teste = 5761.4934268457555\n",
      "Treino = 4833.560706021637|Teste = 5955.958714168911\n",
      "Treino = 4598.125022484774|Teste = 6216.553608637031\n",
      "Treino = 4316.3791662866815|Teste = 6514.07032957674\n",
      "Treino = 4000.6209880837496|Teste = 6848.344737600635\n",
      "Treino = 3655.8197526274853|Teste = 7235.435245488157\n",
      "Treino = 3295.832684540846|Teste = 7633.948584409428\n",
      "Treino = 2931.7212612043872|Teste = 8059.378759944782\n",
      "Treino = 2575.59534021339|Teste = 8435.937377688437\n",
      "Treino = 2233.5742434614776|Teste = 8819.08651587789\n",
      "Treino = 1913.9193213994483|Teste = 9150.520263962728\n"
     ]
    }
   ],
   "source": [
    "for i in range(1,21):\n",
    "    regressor_arvore(i)"
   ]
  },
  {
   "cell_type": "markdown",
   "metadata": {
    "id": "O205B_LH6TSS"
   },
   "source": [
    "Desafio 01: Pesquisar sobre intervalo de confiança (Quem quiser discutir no Discord, estaremos lá)"
   ]
  },
  {
   "cell_type": "code",
   "execution_count": null,
   "metadata": {},
   "outputs": [],
   "source": []
  },
  {
   "cell_type": "markdown",
   "metadata": {
    "id": "O205B_LH6TSS"
   },
   "source": [
    "Desafio 02: Testar com outros parâmetros da árvore de decisão"
   ]
  },
  {
   "cell_type": "code",
   "execution_count": null,
   "metadata": {},
   "outputs": [],
   "source": []
  },
  {
   "cell_type": "markdown",
   "metadata": {
    "id": "O205B_LH6TSS"
   },
   "source": [
    "Desafio 03: Procurar outras formas de realizar os ajustes de parâmetros com o Sklearn"
   ]
  },
  {
   "cell_type": "code",
   "execution_count": null,
   "metadata": {},
   "outputs": [],
   "source": []
  },
  {
   "cell_type": "markdown",
   "metadata": {
    "id": "O205B_LH6TSS"
   },
   "source": [
    "Desafio 04: Pesquisar o que é o problema de underfit."
   ]
  },
  {
   "cell_type": "code",
   "execution_count": null,
   "metadata": {},
   "outputs": [],
   "source": []
  },
  {
   "cell_type": "markdown",
   "metadata": {
    "id": "O205B_LH6TSS"
   },
   "source": [
    "Desafio 05: Plotar um gráfico com test_score e train_test."
   ]
  },
  {
   "cell_type": "code",
   "execution_count": null,
   "metadata": {
    "id": "K3B8l1SX_jxU"
   },
   "outputs": [],
   "source": []
  }
 ],
 "metadata": {
  "colab": {
   "include_colab_link": true,
   "name": "Aula05.ipynb",
   "provenance": []
  },
  "kernelspec": {
   "display_name": "Python 3",
   "language": "python",
   "name": "python3"
  },
  "language_info": {
   "codemirror_mode": {
    "name": "ipython",
    "version": 3
   },
   "file_extension": ".py",
   "mimetype": "text/x-python",
   "name": "python",
   "nbconvert_exporter": "python",
   "pygments_lexer": "ipython3",
   "version": "3.8.3"
  }
 },
 "nbformat": 4,
 "nbformat_minor": 4
}
